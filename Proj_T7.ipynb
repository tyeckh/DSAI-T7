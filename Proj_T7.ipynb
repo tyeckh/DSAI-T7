{
 "cells": [
  {
   "cell_type": "code",
   "execution_count": 111,
   "id": "84430d0f",
   "metadata": {},
   "outputs": [],
   "source": [
    "# Basic Libraries\n",
    "import numpy as np\n",
    "import pandas as pd\n",
    "import seaborn as sb\n",
    "import matplotlib.pyplot as plt # we only need pyplot\n",
    "sb.set() # set the default Seaborn style for graphics"
   ]
  },
  {
   "cell_type": "code",
   "execution_count": 112,
   "id": "fb40856c",
   "metadata": {},
   "outputs": [
    {
     "data": {
      "text/html": [
       "<div>\n",
       "<style scoped>\n",
       "    .dataframe tbody tr th:only-of-type {\n",
       "        vertical-align: middle;\n",
       "    }\n",
       "\n",
       "    .dataframe tbody tr th {\n",
       "        vertical-align: top;\n",
       "    }\n",
       "\n",
       "    .dataframe thead th {\n",
       "        text-align: right;\n",
       "    }\n",
       "</style>\n",
       "<table border=\"1\" class=\"dataframe\">\n",
       "  <thead>\n",
       "    <tr style=\"text-align: right;\">\n",
       "      <th></th>\n",
       "      <th>Condition</th>\n",
       "      <th>Drug</th>\n",
       "      <th>Indication</th>\n",
       "      <th>Type</th>\n",
       "      <th>Reviews</th>\n",
       "      <th>Effective</th>\n",
       "      <th>EaseOfUse</th>\n",
       "      <th>Satisfaction</th>\n",
       "      <th>Information</th>\n",
       "    </tr>\n",
       "  </thead>\n",
       "  <tbody>\n",
       "    <tr>\n",
       "      <th>0</th>\n",
       "      <td>Acute Bacterial Sinusitis</td>\n",
       "      <td>Levofloxacin</td>\n",
       "      <td>On Label</td>\n",
       "      <td>RX</td>\n",
       "      <td>994 Reviews</td>\n",
       "      <td>2.52</td>\n",
       "      <td>3.01</td>\n",
       "      <td>1.84</td>\n",
       "      <td>\\n\\t\\t\\t\\t\\tLevofloxacin is used to treat a va...</td>\n",
       "    </tr>\n",
       "    <tr>\n",
       "      <th>1</th>\n",
       "      <td>Acute Bacterial Sinusitis</td>\n",
       "      <td>Levofloxacin</td>\n",
       "      <td>On Label</td>\n",
       "      <td>RX</td>\n",
       "      <td>994 Reviews</td>\n",
       "      <td>2.52</td>\n",
       "      <td>3.01</td>\n",
       "      <td>1.84</td>\n",
       "      <td>\\n\\t\\t\\t\\t\\tLevofloxacin is used to treat a va...</td>\n",
       "    </tr>\n",
       "    <tr>\n",
       "      <th>2</th>\n",
       "      <td>Acute Bacterial Sinusitis</td>\n",
       "      <td>Moxifloxacin</td>\n",
       "      <td>On Label</td>\n",
       "      <td>RX</td>\n",
       "      <td>755 Reviews</td>\n",
       "      <td>2.78</td>\n",
       "      <td>3.00</td>\n",
       "      <td>2.08</td>\n",
       "      <td>\\n\\t\\t\\t\\t\\t This is a generic drug. The avera...</td>\n",
       "    </tr>\n",
       "    <tr>\n",
       "      <th>3</th>\n",
       "      <td>Acute Bacterial Sinusitis</td>\n",
       "      <td>Azithromycin</td>\n",
       "      <td>On Label</td>\n",
       "      <td>RX</td>\n",
       "      <td>584 Reviews</td>\n",
       "      <td>3.21</td>\n",
       "      <td>4.01</td>\n",
       "      <td>2.57</td>\n",
       "      <td>\\n\\t\\t\\t\\t\\tAzithromycin is an antibiotic (mac...</td>\n",
       "    </tr>\n",
       "    <tr>\n",
       "      <th>4</th>\n",
       "      <td>Acute Bacterial Sinusitis</td>\n",
       "      <td>Azithromycin</td>\n",
       "      <td>On Label</td>\n",
       "      <td>RX</td>\n",
       "      <td>584 Reviews</td>\n",
       "      <td>3.21</td>\n",
       "      <td>4.01</td>\n",
       "      <td>2.57</td>\n",
       "      <td>\\n\\t\\t\\t\\t\\tAzithromycin is an antibiotic (mac...</td>\n",
       "    </tr>\n",
       "  </tbody>\n",
       "</table>\n",
       "</div>"
      ],
      "text/plain": [
       "                   Condition          Drug Indication Type      Reviews  \\\n",
       "0  Acute Bacterial Sinusitis  Levofloxacin   On Label   RX  994 Reviews   \n",
       "1  Acute Bacterial Sinusitis  Levofloxacin   On Label   RX  994 Reviews   \n",
       "2  Acute Bacterial Sinusitis  Moxifloxacin   On Label   RX  755 Reviews   \n",
       "3  Acute Bacterial Sinusitis  Azithromycin   On Label   RX  584 Reviews   \n",
       "4  Acute Bacterial Sinusitis  Azithromycin   On Label   RX  584 Reviews   \n",
       "\n",
       "   Effective  EaseOfUse  Satisfaction  \\\n",
       "0       2.52       3.01          1.84   \n",
       "1       2.52       3.01          1.84   \n",
       "2       2.78       3.00          2.08   \n",
       "3       3.21       4.01          2.57   \n",
       "4       3.21       4.01          2.57   \n",
       "\n",
       "                                         Information  \n",
       "0  \\n\\t\\t\\t\\t\\tLevofloxacin is used to treat a va...  \n",
       "1  \\n\\t\\t\\t\\t\\tLevofloxacin is used to treat a va...  \n",
       "2  \\n\\t\\t\\t\\t\\t This is a generic drug. The avera...  \n",
       "3  \\n\\t\\t\\t\\t\\tAzithromycin is an antibiotic (mac...  \n",
       "4  \\n\\t\\t\\t\\t\\tAzithromycin is an antibiotic (mac...  "
      ]
     },
     "execution_count": 112,
     "metadata": {},
     "output_type": "execute_result"
    }
   ],
   "source": [
    "DrugData = pd.read_csv('Drug.csv')\n",
    "DrugData.head()\n"
   ]
  },
  {
   "cell_type": "code",
   "execution_count": 113,
   "id": "92b1a538",
   "metadata": {},
   "outputs": [
    {
     "name": "stdout",
     "output_type": "stream",
     "text": [
      "<class 'pandas.core.frame.DataFrame'>\n",
      "RangeIndex: 2219 entries, 0 to 2218\n",
      "Data columns (total 9 columns):\n",
      " #   Column        Non-Null Count  Dtype  \n",
      "---  ------        --------------  -----  \n",
      " 0   Condition     2219 non-null   object \n",
      " 1   Drug          2219 non-null   object \n",
      " 2   Indication    2219 non-null   object \n",
      " 3   Type          2219 non-null   object \n",
      " 4   Reviews       2219 non-null   object \n",
      " 5   Effective     2219 non-null   float64\n",
      " 6   EaseOfUse     2219 non-null   float64\n",
      " 7   Satisfaction  2219 non-null   float64\n",
      " 8   Information   2219 non-null   object \n",
      "dtypes: float64(3), object(6)\n",
      "memory usage: 156.1+ KB\n"
     ]
    }
   ],
   "source": [
    "DrugData.info()"
   ]
  },
  {
   "cell_type": "markdown",
   "id": "32432e0a",
   "metadata": {},
   "source": [
    "Let's list down all our observations from the super-quick glance of the dataset, as above.\n",
    "\n",
    "There are 9 variables/features/columns and 2219 observations/samples/rows in the dataset.\n",
    "\n",
    "The response variable seems to be Effectiveness, while the remaining 8 are most likely predictors.\n",
    "\n",
    "There are 3 variables identified as float64 by default, and it seems they are indeed Numeric.\n",
    "\n",
    "There are 6 variables identified as object by default, and they are most likely Categorical (except Reviews,which seems to be numerical count).\n",
    "\n",
    "None of the variables/features seem to have any missing value."
   ]
  },
  {
   "cell_type": "markdown",
   "id": "58b4df7f",
   "metadata": {},
   "source": [
    "---\n",
    "## Data Preparation and Cleaning\n",
    "\n",
    "We will look through the dataset to prepare and indentify any areas that needs to be cleaned before our analysis."
   ]
  },
  {
   "cell_type": "code",
   "execution_count": 114,
   "id": "621d02cb",
   "metadata": {},
   "outputs": [
    {
     "data": {
      "text/plain": [
       "0       994 Reviews\n",
       "1       994 Reviews\n",
       "2       755 Reviews\n",
       "3       584 Reviews\n",
       "4       584 Reviews\n",
       "           ...     \n",
       "2214      2 Reviews\n",
       "2215      1 Reviews\n",
       "2216      1 Reviews\n",
       "2217      1 Reviews\n",
       "2218      1 Reviews\n",
       "Name: Reviews, Length: 2219, dtype: object"
      ]
     },
     "execution_count": 114,
     "metadata": {},
     "output_type": "execute_result"
    }
   ],
   "source": [
    "DrugData[\"Reviews\"]"
   ]
  },
  {
   "cell_type": "markdown",
   "id": "b0d156e9",
   "metadata": {},
   "source": [
    "Looking at the Reviews Variable, we note that Reviews should be Numerical but it is classified as object64 due to the string behind. Hence, there is a need to remove \"reviews\" and convert it to a numerical variable."
   ]
  },
  {
   "cell_type": "code",
   "execution_count": 115,
   "id": "7b5a69b5",
   "metadata": {},
   "outputs": [
    {
     "data": {
      "text/plain": [
       "0       994\n",
       "1       994\n",
       "2       755\n",
       "3       584\n",
       "4       584\n",
       "       ... \n",
       "2214      2\n",
       "2215      1\n",
       "2216      1\n",
       "2217      1\n",
       "2218      1\n",
       "Name: Reviews, Length: 2219, dtype: int64"
      ]
     },
     "execution_count": 115,
     "metadata": {},
     "output_type": "execute_result"
    }
   ],
   "source": [
    "\n",
    "DrugData[\"Reviews\"] = DrugData[\"Reviews\"].map(lambda x: x.rstrip(' Reviews')).astype('int64')\n",
    "DrugData[\"Reviews\"]\n"
   ]
  },
  {
   "attachments": {},
   "cell_type": "markdown",
   "id": "e83620ee",
   "metadata": {},
   "source": [
    "The price and form of medicine can be found within the information column. We will then extract the price and form from the column and create new columns for price and form. (Example of forms are \"tablet\", \"capsule\" etc.)"
   ]
  },
  {
   "cell_type": "code",
   "execution_count": 116,
   "id": "aea642e5",
   "metadata": {},
   "outputs": [],
   "source": [
    "all_form = ['Capsule(s)','Capsule','Tablet(s)','Tablet','tablets','Bottle','Vial(s)','Vial','Reconstituted(s)','Reconstituted','Tube','Jar','Can','Box','Syringe','Implant','Package','Pen(s)','Inhaler']\n",
    "Form = []\n",
    "Price = []\n",
    "for i in range (DrugData.shape[0]):\n",
    "    info = DrugData.iloc[i,8]\n",
    "    sentence = info.split('.')\n",
    "    for x in sentence:\n",
    "        if 'average' in x :\n",
    "            words = x.split()\n",
    "    for word in words:\n",
    "        word = word.replace(\",\", \"\")\n",
    "        if word in all_form :\n",
    "            Form.append(word)\n",
    "            break\n",
    "    for price in words:\n",
    "        if '$' in price:\n",
    "            temp = price.replace(\"$\", \"\")\n",
    "            temp = temp[0:len(temp)-1]\n",
    "            Price.append(temp)"
   ]
  },
  {
   "cell_type": "code",
   "execution_count": 117,
   "id": "06f426be",
   "metadata": {},
   "outputs": [],
   "source": [
    "tablet = ['Tablet(s)','Tablet','tablets']\n",
    "capsule = ['Capsule(s)','Capsule']\n",
    "cream = ['Tube','Can','Jar']\n",
    "liquid_drink = ['Bottle']\n",
    "liquid_inject = ['Vial','Reconstituted','Reconstituted(s)','Vial(s)','Pen(s)','Syringe']\n",
    "other = ['Box','Package','Implant','Inhaler']\n",
    "for i in range (len(Form)):\n",
    "    if Form[i] in tablet:\n",
    "        Form[i] = 'Tablet'\n",
    "    elif Form[i] in capsule:\n",
    "        Form[i] = 'Capsule'\n",
    "    elif Form[i] in cream:\n",
    "        Form[i] = 'Cream'\n",
    "    elif Form[i] in liquid_drink :\n",
    "        Form[i] = 'Liquid (Drink)'\n",
    "    elif Form[i] in liquid_inject :\n",
    "        Form[i] = 'Liquid (Inject)'\n",
    "    elif Form[i] in other:\n",
    "        Form[i] = 'Other'"
   ]
  }
 ],
 "metadata": {
  "kernelspec": {
   "display_name": "Python 3 (ipykernel)",
   "language": "python",
   "name": "python3"
  },
  "language_info": {
   "codemirror_mode": {
    "name": "ipython",
    "version": 3
   },
   "file_extension": ".py",
   "mimetype": "text/x-python",
   "name": "python",
   "nbconvert_exporter": "python",
   "pygments_lexer": "ipython3",
   "version": "3.9.13"
  }
 },
 "nbformat": 4,
 "nbformat_minor": 5
}
